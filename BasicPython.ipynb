{
 "cells": [
  {
   "cell_type": "code",
   "execution_count": null,
   "metadata": {},
   "outputs": [],
   "source": [
    "# Muhammad Nasrhirul Haq Putra Najamuddin\n",
    "# F55122043"
   ]
  },
  {
   "cell_type": "code",
   "execution_count": 1,
   "metadata": {},
   "outputs": [],
   "source": [
    "class MatrixOperations:\n",
    "    def __init__(self, matrix):\n",
    "        self.matrix = matrix\n",
    "\n",
    "    def find_min_max(self):\n",
    "        flatten_matrix = [item for row in self.matrix for item in row]\n",
    "        min_val = min(flatten_matrix)\n",
    "        max_val = max(flatten_matrix)\n",
    "        return min_val, max_val\n",
    "\n",
    "    def transpose_matrix(self):\n",
    "        transposed_matrix = [[self.matrix[j][i] for j in range(len(self.matrix))] for i in range(len(self.matrix[0]))]\n",
    "        return transposed_matrix\n",
    "\n",
    "    def multiply_matrices(self, other_matrix):\n",
    "        result_matrix = [[sum(a * b for a, b in zip(row_a, col_b)) for col_b in zip(*other_matrix)] for row_a in self.matrix]\n",
    "        return result_matrix\n",
    "\n",
    "    def add_matrices(self, other_matrix):\n",
    "        result_matrix = [[a + b for a, b in zip(row_a, row_b)] for row_a, row_b in zip(self.matrix, other_matrix)]\n",
    "        return result_matrix"
   ]
  },
  {
   "cell_type": "code",
   "execution_count": 2,
   "metadata": {},
   "outputs": [],
   "source": [
    "def print_matrix(matrix):\n",
    "    for row in matrix:\n",
    "        print(row)"
   ]
  },
  {
   "cell_type": "code",
   "execution_count": 4,
   "metadata": {},
   "outputs": [
    {
     "name": "stdout",
     "output_type": "stream",
     "text": [
      "Min Value: 12, Max Value: 100\n",
      "\n",
      "Transpose Matrix:\n",
      "[34, 72, 61]\n",
      "[100, 24, 20]\n",
      "[12, 55, 19]\n",
      "\n",
      "Perkalian Matrix:\n",
      "[11300, 5508, 4302]\n",
      "[5508, 8785, 5917]\n",
      "[4302, 5917, 4482]\n",
      "\n",
      "Penjumlahan Matrix:\n",
      "[68, 172, 73]\n",
      "[172, 48, 75]\n",
      "[73, 75, 38]\n"
     ]
    }
   ],
   "source": [
    "if __name__ == \"__main__\":\n",
    "    matrix_a = [\n",
    "        [34, 100, 12],\n",
    "        [72, 24, 55],\n",
    "        [61, 20, 19]\n",
    "    ]\n",
    "\n",
    "    matrix_operations = MatrixOperations(matrix_a)\n",
    "\n",
    "    # 1. Menghitung element terbesar dan terkecil\n",
    "    min_val, max_val = matrix_operations.find_min_max()\n",
    "    print(f\"Min Value: {min_val}, Max Value: {max_val}\")\n",
    "\n",
    "    # 2. Transpose matrix (T)\n",
    "    transposed_matrix = matrix_operations.transpose_matrix()\n",
    "    print(\"\\nTranspose Matrix:\")\n",
    "    print_matrix(transposed_matrix)\n",
    "\n",
    "    # 3. Menghitung perkalian matrix (A) dan (T)\n",
    "    multiplied_matrix = matrix_operations.multiply_matrices(transposed_matrix)\n",
    "    print(\"\\nPerkalian Matrix:\")\n",
    "    print_matrix(multiplied_matrix)\n",
    "\n",
    "    # 4. Menghitung penjumlahan matrix (T) dan (A)\n",
    "    added_matrix = matrix_operations.add_matrices(transposed_matrix)\n",
    "    print(\"\\nPenjumlahan Matrix:\")\n",
    "    print_matrix(added_matrix)\n"
   ]
  }
 ],
 "metadata": {
  "kernelspec": {
   "display_name": "Python 3",
   "language": "python",
   "name": "python3"
  },
  "language_info": {
   "codemirror_mode": {
    "name": "ipython",
    "version": 3
   },
   "file_extension": ".py",
   "mimetype": "text/x-python",
   "name": "python",
   "nbconvert_exporter": "python",
   "pygments_lexer": "ipython3",
   "version": "3.11.5"
  }
 },
 "nbformat": 4,
 "nbformat_minor": 2
}
